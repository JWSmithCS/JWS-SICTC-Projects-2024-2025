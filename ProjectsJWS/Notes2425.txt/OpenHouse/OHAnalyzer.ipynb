{
 "cells": [
  {
   "cell_type": "markdown",
   "id": "a899d43a-67b2-401d-aa81-decb46e59e9f",
   "metadata": {},
   "source": [
    "\n",
    "<ul>\n",
    "    <li>Clean our data</li>\n",
    "    <li>Drop nan's</li>\n",
    "</ul>"
   ]
  },
  {
   "cell_type": "code",
   "execution_count": 3,
   "id": "af47ea4b-15a0-459a-a662-5c38bde3eda2",
   "metadata": {},
   "outputs": [],
   "source": [
    "import pandas as pd\n",
    "import matplotlib.pyplot as plt\n",
    "dfFoyer = pd.read_csv(\"CleanData/CleanFoyer.csv\",header=0)\n",
    "dfPrograms = pd.read_csv(\"CleanData/CleanPrograms.csv\",header=0)"
   ]
  },
  {
   "cell_type": "code",
   "execution_count": 4,
   "id": "e7987eaa-0b69-47fd-a3b8-9ce08ed2b451",
   "metadata": {},
   "outputs": [
    {
     "name": "stdout",
     "output_type": "stream",
     "text": [
      "['Gibson Southern' 'Mater Dei' 'Reitz' 'North' 'ECS' 'Central' 'Castle'\n",
      " 'Mt. Vernon' 'NTI' 'North Posey' 'Harrison' 'Day School' 'Boonville'\n",
      " 'Wood Memorial' 'Virtual Academy' 'Other' 'Memorial' 'Tecumseh' 'Bosse'\n",
      " 'Home School' 'Princeton' 'South Spencer']\n"
     ]
    }
   ],
   "source": [
    "schools = dfFoyer[\"school\"].unique()\n",
    "print(schools)"
   ]
  },
  {
   "cell_type": "code",
   "execution_count": 5,
   "id": "06f2464e-718d-4850-b3f9-d15fd08ab95e",
   "metadata": {},
   "outputs": [
    {
     "name": "stdout",
     "output_type": "stream",
     "text": [
      "school\n",
      "North              65\n",
      "Gibson Southern    65\n",
      "Reitz              57\n",
      "Mater Dei          55\n",
      "Central            46\n",
      "Castle             39\n",
      "NTI                38\n",
      "Harrison           25\n",
      "North Posey        14\n",
      "Boonville          13\n",
      "Mt. Vernon         12\n",
      "ECS                11\n",
      "Bosse              10\n",
      "Princeton           9\n",
      "Memorial            7\n",
      "Home School         7\n",
      "Tecumseh            7\n",
      "Other               6\n",
      "Virtual Academy     6\n",
      "South Spencer       5\n",
      "Wood Memorial       4\n",
      "Day School          1\n",
      "Name: count, dtype: int64\n"
     ]
    }
   ],
   "source": [
    "count = dfFoyer.value_counts(\"school\")\n",
    "print(count)"
   ]
  },
  {
   "cell_type": "code",
   "execution_count": 8,
   "id": "d39efe95-f48b-4022-8b40-3e69e89664ec",
   "metadata": {},
   "outputs": [
    {
     "name": "stdout",
     "output_type": "stream",
     "text": [
      "program\n",
      "Advanced Manufacturing Technology                 [Reitz, Tecumseh, North, NTI, Reitz, Gibson So...\n",
      "Architecture and Engineering Design Technology    [Reitz, Reitz, Castle, Central, North Posey, N...\n",
      "Automotive Collision Repair Technology            [Reitz, Mater Dei, Mater Dei, Mater Dei, Gibso...\n",
      "Automotive Service Technology                     [Mater Dei, Mater Dei, Mater Dei, Gibson South...\n",
      "Building Construction Technology                  [Mater Dei, Central, Castle, Reitz, NTI, Harri...\n",
      "Computer Science Software Development             [Reitz, Mater Dei, Mater Dei, Tecumseh, Reitz,...\n",
      "Culinary Arts                                     [Mater Dei, Mater Dei, Mater Dei, Mater Dei, G...\n",
      "Cyber Security                                    [Reitz, Mater Dei, Reitz, Tecumseh, Harrison, ...\n",
      "Diesel Service Technology                         [Mater Dei, Mater Dei, Mater Dei, Gibson South...\n",
      "Electrical Technology                             [Reitz, Mater Dei, ECS, Central, Reitz, Harris...\n",
      "Graphic Communications Digital Media              [Mater Dei, Reitz, Castle, Reitz, North, North...\n",
      "HVAC -R and Energy Systems                        [Mater Dei, Harrison, Boonville, Gibson Southe...\n",
      "Health Science: Exercise Science                  [Mater Dei, NTI, NTI, Wood Memorial, Gibson So...\n",
      "Health Science: Pre-Professional                  [Gibson Southern, Mater Dei, Mater Dei, Mater ...\n",
      "Media Communications and Broadcasting             [Mater Dei, Mater Dei, Boonville, Virtual Acad...\n",
      "Precision Machine Metalworking Technology         [Mater Dei, Reitz, Mater Dei, Central, North P...\n",
      "Public Safety Criminal Justice                    [Mt. Vernon, NTI, Day School, ECS, Mater Dei, ...\n",
      "Veterinary Science                                [North, ECS, Castle, North Posey, Central, Cen...\n",
      "Welding Technology                                [Reitz, North, Central, Mater Dei, NTI, NTI, N...\n",
      "Name: school, dtype: object\n"
     ]
    }
   ],
   "source": [
    "dfMerge = pd.merge(dfFoyer,dfPrograms,on=\"id\",how=\"inner\")\n",
    "\n",
    "studsByPrograms = dfMerge.groupby(\"program\")[\"school\"].apply(list)\n",
    "print(studsByPrograms)"
   ]
  },
  {
   "cell_type": "code",
   "execution_count": 23,
   "id": "283ecad1-e231-41d0-b59d-a2c0fa0c63d7",
   "metadata": {
    "scrolled": true
   },
   "outputs": [
    {
     "name": "stdout",
     "output_type": "stream",
     "text": [
      "Index(['Advanced Manufacturing Technology',\n",
      "       'Architecture and Engineering Design Technology',\n",
      "       'Automotive Collision Repair Technology',\n",
      "       'Automotive Service Technology', 'Building Construction Technology',\n",
      "       'Computer Science Software Development', 'Culinary Arts',\n",
      "       'Cyber Security', 'Diesel Service Technology', 'Electrical Technology',\n",
      "       'Graphic Communications Digital Media', 'HVAC -R and Energy Systems',\n",
      "       'Health Science: Exercise Science', 'Health Science: Pre-Professional',\n",
      "       'Media Communications and Broadcasting',\n",
      "       'Precision Machine Metalworking Technology',\n",
      "       'Public Safety Criminal Justice', 'Veterinary Science',\n",
      "       'Welding Technology'],\n",
      "      dtype='object', name='program')\n",
      "school\n",
      "[Reitz, Tecumseh, North, NTI, Reitz, Gibson Southern, Reitz, Mater Dei, Boonville, Boonville, Mater Dei, North, North, NTI, NTI, North, Boonville, North, NTI, Castle, North, South Spencer, Central, Central, Central, Bosse, Mater Dei, Mater Dei, Memorial, Gibson Southern, North, North, North, North, North, Mater Dei]                                                                                                                                                                                                                                                                                                                                                                                                                                                                                                                                                                                                                                                                                                                                                                                                        0.052632\n",
      "[Reitz, Reitz, Castle, Central, North Posey, NTI, Gibson Southern, Reitz, Mater Dei, North, Boonville, Reitz, Mater Dei, Mater Dei, Reitz, Reitz, NTI, North, Gibson Southern, Castle, Reitz, Castle, Home School, Home School, Princeton, Princeton, South Spencer, Reitz, Home School, Mater Dei, North, North, Boonville, Castle, Reitz, Castle, Castle, Castle, Reitz, Mt. Vernon, North, North, North, Gibson Southern, Central, Central, Boonville, Mater Dei, Central, Central, Castle, Castle, Gibson Southern, Other, Gibson Southern, Home School, Home School, Home School, Gibson Southern, North, ECS, North, North, Gibson Southern, North, Castle, Mater Dei, Castle, Castle, Castle]                                                                                                                                                                                                                                                                                                                                                                                                                                 0.052632\n",
      "[Reitz, Mater Dei, Mater Dei, Mater Dei, Gibson Southern, NTI, NTI, Reitz, Day School, Mater Dei, Gibson Southern, Reitz, Mater Dei, Central, Bosse, Gibson Southern, Reitz, Home School, Reitz, Reitz, Princeton, Princeton, Gibson Southern, NTI, Princeton, NTI, Mater Dei, NTI, North, Gibson Southern, Central, Gibson Southern, Gibson Southern, Gibson Southern, Gibson Southern, Boonville, Mater Dei, Mater Dei, Central, Central, Mt. Vernon, Gibson Southern, Gibson Southern, Castle, Castle, Bosse, Reitz, Reitz, Castle, Mater Dei, Reitz, North, Reitz, NTI, NTI, North]                                                                                                                                                                                                                                                                                                                                                                                                                                                                                                                                              0.052632\n",
      "[Mater Dei, Mater Dei, Mater Dei, Gibson Southern, ECS, ECS, ECS, ECS, North Posey, NTI, NTI, Reitz, Gibson Southern, Reitz, Mater Dei, NTI, Gibson Southern, Mt. Vernon, Central, NTI, Castle, Castle, Castle, Reitz, ECS, Other, Gibson Southern, Mater Dei, NTI, Wood Memorial, Home School, Mater Dei, North, North, Gibson Southern, Central, North, North, Harrison, Harrison, Gibson Southern, NTI, Castle, Harrison, Mater Dei, Central, Mater Dei, North, North, North, Reitz, Reitz, Harrison, Reitz, Central, Boonville, NTI, NTI, Reitz, Castle, North]                                                                                                                                                                                                                                                                                                                                                                                                                                                                                                                                                                  0.052632\n",
      "[Mater Dei, Central, Castle, Reitz, NTI, Harrison, NTI, NTI, Gibson Southern, Reitz, Day School, Mater Dei, Mater Dei, NTI, Gibson Southern, Reitz, Mater Dei, Mater Dei, NTI, Mt. Vernon, Reitz, Reitz, NTI, Reitz, Reitz, Reitz, Castle, North, Central, Castle, Castle, Memorial, North, North, Reitz, Home School, Mater Dei, Central, Mater Dei, North, North, Reitz, NTI, Harrison, Harrison, Memorial, Mater Dei, Mater Dei, Princeton, Mater Dei, Mater Dei, Gibson Southern]                                                                                                                                                                                                                                                                                                                                                                                                                                                                                                                                                                                                                                                0.052632\n",
      "[Reitz, Mater Dei, Mater Dei, Tecumseh, Reitz, Reitz, Bosse, Gibson Southern, Gibson Southern, Castle, Reitz, Reitz, North, Gibson Southern, Gibson Southern, Gibson Southern]                                                                                                                                                                                                                                                                                                                                                                                                                                                                                                                                                                                                                                                                                                                                                                                                                                                                                                                                                       0.052632\n",
      "[Mater Dei, Mater Dei, Mater Dei, Mater Dei, Gibson Southern, Mater Dei, Mater Dei, Virtual Academy, Castle, Castle, Other, NTI, Mt. Vernon, Mt. Vernon, Memorial, Memorial, NTI, Bosse, Reitz, Home School, Wood Memorial, North, Reitz, Reitz, North, Reitz, North, North, North, Reitz, Reitz, Reitz, Harrison, Harrison, NTI, Harrison, Harrison, Central, Central, ECS, ECS, ECS, ECS, ECS, ECS, NTI, NTI, Mt. Vernon, Mt. Vernon, North, Central, Harrison, Mater Dei, Gibson Southern, Central]                                                                                                                                                                                                                                                                                                                                                                                                                                                                                                                                                                                                                               0.052632\n",
      "[Reitz, Mater Dei, Reitz, Tecumseh, Harrison, Reitz, Bosse, Castle, NTI, North, Castle, North, Gibson Southern, Gibson Southern, Gibson Southern]                                                                                                                                                                                                                                                                                                                                                                                                                                                                                                                                                                                                                                                                                                                                                                                                                                                                                                                                                                                    0.052632\n",
      "[Mater Dei, Mater Dei, Mater Dei, Gibson Southern, North, Mater Dei, NTI, NTI, NTI, NTI, Reitz, Mater Dei, Gibson Southern, Gibson Southern, Memorial, Reitz, Central, Gibson Southern, NTI, NTI, North, North, Mater Dei, Mater Dei, Central, Castle, Castle, Castle, Castle, NTI, ECS, Reitz, Tecumseh, Home School, Home School, Princeton, Wood Memorial, Castle, Castle, Reitz, Reitz, Mater Dei, North, Gibson Southern, Gibson Southern, Central, Gibson Southern, Gibson Southern, NTI, Gibson Southern, Gibson Southern, Mt. Vernon, Mt. Vernon, Gibson Southern, Harrison, Harrison, Gibson Southern, NTI, Castle, Harrison, Boonville, Central, North, NTI, Mater Dei, Mater Dei, NTI, Reitz, Reitz, Reitz, North, North, North, North, North, North, Mater Dei, Mater Dei, ECS, North, Central, Reitz, Reitz, NTI, NTI, Central, Bosse, Mt. Vernon]                                                                                                                                                                                                                                                                      0.052632\n",
      "[Reitz, Mater Dei, ECS, Central, Reitz, Harrison, NTI, NTI, Reitz, Gibson Southern, Reitz, North, Virtual Academy, NTI, NTI, NTI, Gibson Southern, Castle, Reitz, NTI, NTI, Castle, Mater Dei, Mater Dei, Bosse, North, Reitz, Reitz, Mater Dei, NTI, Wood Memorial, Castle, Boonville, Mt. Vernon, NTI, Reitz, Mater Dei, Central, Princeton, Gibson Southern, South Spencer, North, Harrison, Central, Central, NTI, Central, North, Reitz, NTI, NTI, Mater Dei, NTI, NTI, Harrison, Reitz, Gibson Southern, Mater Dei, North, Memorial, Memorial, Reitz, Mater Dei, Reitz, Central, Bosse, Mt. Vernon, Reitz, South Spencer, Mater Dei, Boonville, Castle]                                                                                                                                                                                                                                                                                                                                                                                                                                                                        0.052632\n",
      "[Mater Dei, Reitz, Castle, Reitz, North, North, Central, Central, Mater Dei, Central, Memorial, Memorial, NTI]                                                                                                                                                                                                                                                                                                                                                                                                                                                                                                                                                                                                                                                                                                                                                                                                                                                                                                                                                                                                                       0.052632\n",
      "[Mater Dei, Harrison, Boonville, Gibson Southern, Mater Dei, Mater Dei, Castle, Tecumseh, Castle, Reitz, Central, ECS, Boonville, Boonville, Boonville, NTI, NTI, NTI, NTI, Mater Dei, Mater Dei, Mater Dei, Mater Dei, Mater Dei, Mater Dei, Mater Dei, Mater Dei, Princeton, Princeton, Princeton, Harrison, Harrison, Harrison, Harrison, Harrison, Harrison, Harrison, Harrison, Central, Central, Mater Dei, North, North, North, Central, Central, Central, Central, Central, Mater Dei, Mater Dei, Mater Dei, Mater Dei, Reitz, Reitz, Reitz, Harrison, Harrison, Reitz, Reitz, Reitz, Reitz, Reitz, Reitz, Reitz, Reitz, Reitz, Mater Dei, Mater Dei, Mater Dei, Mater Dei, Mater Dei, Mater Dei, Mater Dei, Mater Dei, Mater Dei, Reitz, Reitz, Reitz, Reitz, Mater Dei, Mater Dei, Mater Dei, Mater Dei, Mater Dei, Mater Dei, Mater Dei, Mater Dei, Mater Dei, Harrison, Reitz, NTI, NTI, Central, Mt. Vernon, North, Mater Dei, Reitz, South Spencer, North]                                                                                                                                                             0.052632\n",
      "[Mater Dei, NTI, NTI, Wood Memorial, Gibson Southern, North Posey, North, Home School, Reitz, Gibson Southern, South Spencer, Other, Mater Dei, Central]                                                                                                                                                                                                                                                                                                                                                                                                                                                                                                                                                                                                                                                                                                                                                                                                                                                                                                                                                                             0.052632\n",
      "[Gibson Southern, Mater Dei, Mater Dei, Mater Dei, Mater Dei, Reitz, ECS, Central, Mt. Vernon, Central, Central, North Posey, North, NTI, Reitz, Boonville, Gibson Southern, Mater Dei, Mater Dei, Reitz, Gibson Southern, Central, Central, Boonville, Reitz, Wood Memorial, Mater Dei, North, Boonville, Castle, North, Central, Gibson Southern, Gibson Southern, Gibson Southern, Gibson Southern, NTI, NTI, NTI, Mater Dei, Bosse, Bosse, Gibson Southern, Reitz, Reitz, Gibson Southern, Gibson Southern, Princeton, Reitz, Reitz, Castle, Reitz, Wood Memorial, North, Tecumseh, North, NTI, ECS, ECS, North, North Posey, Wood Memorial, Wood Memorial, Mater Dei, Princeton, Gibson Southern, North, NTI, NTI, Gibson Southern, Gibson Southern, Gibson Southern, Boonville, North Posey, Mater Dei, NTI, Mater Dei, Castle, Reitz, North Posey, North Posey, North Posey, Gibson Southern, North Posey, Gibson Southern, Central, Central, Central, North Posey, Central, Central, Gibson Southern, Gibson Southern, Gibson Southern, Central, Gibson Southern, Gibson Southern, Virtual Academy, North, Harrison, ...]    0.052632\n",
      "[Mater Dei, Mater Dei, Boonville, Virtual Academy, Other, Mt. Vernon, Reitz, NTI, NTI, Central, NTI, Bosse, Bosse, Gibson Southern, Reitz, Gibson Southern, Mater Dei, Reitz, North, North, Reitz, North, Memorial, Bosse, Reitz, NTI, Mater Dei]                                                                                                                                                                                                                                                                                                                                                                                                                                                                                                                                                                                                                                                                                                                                                                                                                                                                                    0.052632\n",
      "[Mater Dei, Reitz, Mater Dei, Central, North Posey, NTI, Reitz, Mater Dei, Virtual Academy, Boonville, Reitz, Gibson Southern, NTI, North, Castle, Reitz, Reitz, NTI, North, Boonville, Mater Dei, Mater Dei, South Spencer, Central, Castle, North, Castle, Mater Dei, North, North, Mater Dei, NTI, NTI, Mater Dei, Mater Dei, Gibson Southern]                                                                                                                                                                                                                                                                                                                                                                                                                                                                                                                                                                                                                                                                                                                                                                                    0.052632\n",
      "[Mt. Vernon, NTI, Day School, ECS, Mater Dei, Mater Dei, Mater Dei, Mater Dei, Mater Dei, Other, Mt. Vernon, Reitz, NTI, NTI, Tecumseh, Central, Central, NTI, NTI, Gibson Southern, Gibson Southern, Home School, Gibson Southern, Other, North, Gibson Southern, Gibson Southern, Central, Mater Dei, North, Gibson Southern, Gibson Southern, NTI, NTI, NTI, NTI, North, Mt. Vernon, Other, NTI, NTI, NTI, NTI]                                                                                                                                                                                                                                                                                                                                                                                                                                                                                                                                                                                                                                                                                                                   0.052632\n",
      "[North, ECS, Castle, North Posey, Central, Central, North, Gibson Southern, Princeton, Reitz, Reitz, Gibson Southern, North Posey, ECS, Gibson Southern, North, North Posey, Reitz, Reitz, North, Harrison, Harrison, North Posey, Harrison, Harrison, Gibson Southern, Central, NTI, North, Harrison, Central, North Posey, North, Harrison, Harrison, NTI, Tecumseh, Mater Dei, Mater Dei, North, Tecumseh, North Posey, Central, Central, Gibson Southern, Harrison, North, Reitz, Mater Dei, Castle, Boonville, Gibson Southern]                                                                                                                                                                                                                                                                                                                                                                                                                                                                                                                                                                                                 0.052632\n",
      "[Reitz, North, Central, Mater Dei, NTI, NTI, NTI, Reitz, Gibson Southern, Gibson Southern, Reitz, Reitz, Mater Dei, Boonville, Mater Dei, Gibson Southern, Mater Dei, Reitz, North, Reitz, Gibson Southern, Reitz, NTI, Reitz, North, Castle, Mater Dei, Mater Dei, North, Castle, Castle, Castle, Castle, Reitz, Mater Dei, North, Other, Gibson Southern, Mater Dei, NTI, Boonville, Other, Reitz, NTI, Gibson Southern, North, Boonville, Boonville, North, Gibson Southern, Mt. Vernon, Gibson Southern, Gibson Southern, Reitz, Central, Mater Dei, Central, Gibson Southern, Harrison, Mater Dei, North, NTI, Mater Dei, NTI, Reitz, Reitz, Gibson Southern, North, NTI, Mater Dei, Reitz, ECS, North]                                                                                                                                                                                                                                                                                                                                                                                                                         0.052632\n",
      "Name: proportion, dtype: float64\n"
     ]
    }
   ],
   "source": [
    "courseName = schoolByPrograms.keys()\n",
    "print(courseName)\n",
    "\n",
    "\n",
    "#chatGpt found\n",
    "countSchools = schoolByPrograms.value_counts('school')\n",
    "print(countSchools)\n",
    "\n"
   ]
  },
  {
   "cell_type": "code",
   "execution_count": null,
   "id": "ddb4492a-def0-4345-8f82-ad90c1b7c77b",
   "metadata": {},
   "outputs": [],
   "source": []
  },
  {
   "cell_type": "code",
   "execution_count": null,
   "id": "bef6b60b-e5a3-4f7b-b0ec-e91d0d4c04d7",
   "metadata": {},
   "outputs": [],
   "source": []
  }
 ],
 "metadata": {
  "kernelspec": {
   "display_name": "Python 3 (ipykernel)",
   "language": "python",
   "name": "python3"
  },
  "language_info": {
   "codemirror_mode": {
    "name": "ipython",
    "version": 3
   },
   "file_extension": ".py",
   "mimetype": "text/x-python",
   "name": "python",
   "nbconvert_exporter": "python",
   "pygments_lexer": "ipython3",
   "version": "3.13.0"
  }
 },
 "nbformat": 4,
 "nbformat_minor": 5
}
