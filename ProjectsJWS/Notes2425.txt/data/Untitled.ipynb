{
 "cells": [
  {
   "cell_type": "code",
   "execution_count": 1,
   "id": "d29f977c-7e2c-4776-b4f6-4d29ea49fff4",
   "metadata": {},
   "outputs": [],
   "source": [
    "import glob"
   ]
  },
  {
   "cell_type": "markdown",
   "id": "15600185-244f-48be-96c4-99286406e3c5",
   "metadata": {},
   "source": [
    "### for notes\n",
    "markdown stuff"
   ]
  },
  {
   "cell_type": "code",
   "execution_count": null,
   "id": "0e5db506-06d8-4aa6-9ad0-d2bff523ef68",
   "metadata": {},
   "outputs": [],
   "source": []
  },
  {
   "cell_type": "code",
   "execution_count": null,
   "id": "48b4326e-1215-454c-a5d0-7cb7bf408c73",
   "metadata": {},
   "outputs": [],
   "source": []
  }
 ],
 "metadata": {
  "kernelspec": {
   "display_name": "Python 3 (ipykernel)",
   "language": "python",
   "name": "python3"
  },
  "language_info": {
   "codemirror_mode": {
    "name": "ipython",
    "version": 3
   },
   "file_extension": ".py",
   "mimetype": "text/x-python",
   "name": "python",
   "nbconvert_exporter": "python",
   "pygments_lexer": "ipython3",
   "version": "3.13.0"
  }
 },
 "nbformat": 4,
 "nbformat_minor": 5
}
